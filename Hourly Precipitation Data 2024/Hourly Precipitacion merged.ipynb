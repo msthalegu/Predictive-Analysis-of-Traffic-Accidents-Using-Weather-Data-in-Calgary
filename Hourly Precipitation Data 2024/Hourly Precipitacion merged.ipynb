{
 "cells": [
  {
   "cell_type": "markdown",
   "id": "5a0a7d39-ff2b-4d48-8513-69eda5e879e8",
   "metadata": {},
   "source": [
    "# What is the average daily precipitation in Calgary in 2024?\r\n",
    "\r\n",
    "The average daily precipitation was calculated for each month of 2024, and then the annual average was determined by considering the monthly data.\r\n"
   ]
  },
  {
   "cell_type": "code",
   "execution_count": 2,
   "id": "a35c000a-9bc4-4441-9ee1-a80d16fb281e",
   "metadata": {},
   "outputs": [
    {
     "name": "stdout",
     "output_type": "stream",
     "text": [
      "Average January Precipitation Hours: 2.096774193548387\n",
      "Average February Precipitation Hours: 1.25\n",
      "Average March Precipitation Hours: 2.5161290322580645\n",
      "Average April Precipitation Hours: 1.6666666666666667\n",
      "Average May Precipitation Hours: 2.193548387096774\n",
      "Average June Precipitation Hours: 1.1666666666666667\n",
      "Average July Precipitation Hours: 0.6451612903225806\n",
      "Average August Precipitation Hours: 0.9032258064516129\n",
      "Average September Precipitation Hours: 1.4666666666666666\n",
      "Average October Precipitation Hours: 0.25806451612903225\n",
      "Average November Precipitation Hours: 1.8\n",
      "Average December Precipitation Hours: 0.45161290322580644\n"
     ]
    },
    {
     "data": {
      "text/plain": [
       "1.3678763440860215"
      ]
     },
     "execution_count": 2,
     "metadata": {},
     "output_type": "execute_result"
    }
   ],
   "source": [
    "import pandas as pd\n",
    "\n",
    "# Para Enero\n",
    "January = pd.read_csv('en_climate_hourly_AB_3031094_01-2024_P1H.csv')\n",
    "January['count'] = January['Precip. Amount (mm)'].apply(lambda x: 1 if x > 0 else 0)\n",
    "JanuaryPrecipitation = January['count'].sum() / 31\n",
    "print('Average January Precipitation Hours:', JanuaryPrecipitation)\n",
    "\n",
    "# Para Febrero\n",
    "February = pd.read_csv('en_climate_hourly_AB_3031094_02-2024_P1H.csv')\n",
    "February['count'] = February['Precip. Amount (mm)'].apply(lambda x: 1 if x > 0 else 0)\n",
    "FebruaryPrecipitation = February['count'].sum() / 28  # febrero tiene 28 días\n",
    "print('Average February Precipitation Hours:', FebruaryPrecipitation)\n",
    "\n",
    "# Para Marzo\n",
    "March = pd.read_csv('en_climate_hourly_AB_3031094_03-2024_P1H.csv')\n",
    "March['count'] = March['Precip. Amount (mm)'].apply(lambda x: 1 if x > 0 else 0)\n",
    "MarchPrecipitation = March['count'].sum() / 31\n",
    "print('Average March Precipitation Hours:', MarchPrecipitation)\n",
    "\n",
    "# Para Abril\n",
    "April = pd.read_csv('en_climate_hourly_AB_3031094_04-2024_P1H.csv')\n",
    "April['count'] = April['Precip. Amount (mm)'].apply(lambda x: 1 if x > 0 else 0)\n",
    "AprilPrecipitation = April['count'].sum() / 30\n",
    "print('Average April Precipitation Hours:', AprilPrecipitation)\n",
    "\n",
    "# Para Mayo\n",
    "May = pd.read_csv('en_climate_hourly_AB_3031094_05-2024_P1H.csv')\n",
    "May['count'] = May['Precip. Amount (mm)'].apply(lambda x: 1 if x > 0 else 0)\n",
    "MayPrecipitation = May['count'].sum() / 31\n",
    "print('Average May Precipitation Hours:', MayPrecipitation)\n",
    "\n",
    "# Para Junio\n",
    "June = pd.read_csv('en_climate_hourly_AB_3031094_06-2024_P1H.csv')\n",
    "June['count'] = June['Precip. Amount (mm)'].apply(lambda x: 1 if x > 0 else 0)\n",
    "JunePrecipitation = June['count'].sum() / 30\n",
    "print('Average June Precipitation Hours:', JunePrecipitation)\n",
    "\n",
    "# Para Julio\n",
    "July = pd.read_csv('en_climate_hourly_AB_3031094_07-2024_P1H.csv')\n",
    "July['count'] = July['Precip. Amount (mm)'].apply(lambda x: 1 if x > 0 else 0)\n",
    "JulyPrecipitation = July['count'].sum() / 31\n",
    "print('Average July Precipitation Hours:', JulyPrecipitation)\n",
    "\n",
    "# Para Agosto\n",
    "August = pd.read_csv('en_climate_hourly_AB_3031094_08-2024_P1H.csv')\n",
    "August['count'] = August['Precip. Amount (mm)'].apply(lambda x: 1 if x > 0 else 0)\n",
    "AugustPrecipitation = August['count'].sum() / 31\n",
    "print('Average August Precipitation Hours:', AugustPrecipitation)\n",
    "\n",
    "# Para Septiembre\n",
    "September = pd.read_csv('en_climate_hourly_AB_3031094_09-2024_P1H.csv')\n",
    "September['count'] = September['Precip. Amount (mm)'].apply(lambda x: 1 if x > 0 else 0)\n",
    "SeptemberPrecipitation = September['count'].sum() / 30\n",
    "print('Average September Precipitation Hours:', SeptemberPrecipitation)\n",
    "\n",
    "# Para Octubre\n",
    "October = pd.read_csv('en_climate_hourly_AB_3031094_10-2024_P1H.csv')\n",
    "October['count'] = October['Precip. Amount (mm)'].apply(lambda x: 1 if x > 0 else 0)\n",
    "OctoberPrecipitation = October['count'].sum() / 31\n",
    "print('Average October Precipitation Hours:', OctoberPrecipitation)\n",
    "\n",
    "# Para Noviembre\n",
    "November = pd.read_csv('en_climate_hourly_AB_3031094_11-2024_P1H.csv')\n",
    "November['count'] = November['Precip. Amount (mm)'].apply(lambda x: 1 if x > 0 else 0)\n",
    "NovemberPrecipitation = November['count'].sum() / 30\n",
    "print('Average November Precipitation Hours:', NovemberPrecipitation)\n",
    "\n",
    "# Para Diciembre\n",
    "December = pd.read_csv('en_climate_hourly_AB_3031094_12-2024_P1H.csv')\n",
    "December['count'] = December['Precip. Amount (mm)'].apply(lambda x: 1 if x > 0 else 0)\n",
    "DecemberPrecipitation = December['count'].sum() / 31\n",
    "print('Average December Precipitation Hours:', DecemberPrecipitation)\n",
    "\n",
    "\n",
    "Avrg2024 = (JanuaryPrecipitation+ FebruaryPrecipitation + MarchPrecipitation + AprilPrecipitation + MayPrecipitation + JunePrecipitation + JulyPrecipitation + AugustPrecipitation + SeptemberPrecipitation + OctoberPrecipitation + NovemberPrecipitation + DecemberPrecipitation) / 12\n",
    "Avrg2024"
   ]
  },
  {
   "cell_type": "code",
   "execution_count": null,
   "id": "d528c102-743f-4c09-9c80-858856568acc",
   "metadata": {},
   "outputs": [],
   "source": []
  },
  {
   "cell_type": "code",
   "execution_count": null,
   "id": "eb0a3806-aa7d-461b-9491-88096d2b0d5d",
   "metadata": {},
   "outputs": [],
   "source": []
  }
 ],
 "metadata": {
  "kernelspec": {
   "display_name": "Python [conda env:base] *",
   "language": "python",
   "name": "conda-base-py"
  },
  "language_info": {
   "codemirror_mode": {
    "name": "ipython",
    "version": 3
   },
   "file_extension": ".py",
   "mimetype": "text/x-python",
   "name": "python",
   "nbconvert_exporter": "python",
   "pygments_lexer": "ipython3",
   "version": "3.12.4"
  }
 },
 "nbformat": 4,
 "nbformat_minor": 5
}
